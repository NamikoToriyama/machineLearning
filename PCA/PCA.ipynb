{
 "cells": [
  {
   "cell_type": "code",
   "execution_count": 1,
   "metadata": {},
   "outputs": [],
   "source": [
    "from sklearn.decomposition import PCA\n",
    "from sklearn.datasets import load_iris"
   ]
  },
  {
   "cell_type": "code",
   "execution_count": 2,
   "metadata": {},
   "outputs": [
    {
     "name": "stdout",
     "output_type": "stream",
     "text": [
      "PCA前の次元4: PCA後の次元2\n"
     ]
    }
   ],
   "source": [
    "data = load_iris()\n",
    "dimention = len(data.data[0])\n",
    "\n",
    "n_components = 2 # 次元削減後の次元を２にする\n",
    "model = PCA(n_components=n_components)\n",
    "model = model.fit(data.data)\n",
    "transform_data = model.transform(data.data) # 変換したデータ\n",
    "print('PCA前の次元{}: PCA後の次元{}'.format(dimention, len(transform_data[0])))\n",
    "\n",
    "# print(transform_data) # 変換したデータ"
   ]
  }
 ],
 "metadata": {
  "kernelspec": {
   "display_name": "Python 3",
   "language": "python",
   "name": "python3"
  },
  "language_info": {
   "codemirror_mode": {
    "name": "ipython",
    "version": 3
   },
   "file_extension": ".py",
   "mimetype": "text/x-python",
   "name": "python",
   "nbconvert_exporter": "python",
   "pygments_lexer": "ipython3",
   "version": "3.6.10"
  }
 },
 "nbformat": 4,
 "nbformat_minor": 2
}
