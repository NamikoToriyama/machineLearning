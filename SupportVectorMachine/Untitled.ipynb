{
 "cells": [
  {
   "cell_type": "code",
   "execution_count": 7,
   "metadata": {},
   "outputs": [],
   "source": [
    "from sklearn.svm import LinearSVC\n",
    "from sklearn.datasets import make_blobs\n",
    "from sklearn.model_selection import train_test_split\n",
    "from sklearn.metrics import accuracy_score\n",
    "import matplotlib.pyplot as plt"
   ]
  },
  {
   "cell_type": "code",
   "execution_count": 39,
   "metadata": {},
   "outputs": [
    {
     "data": {
      "image/png": "[encoded data removed]",
      "text/plain": [
       "<Figure size 432x288 with 1 Axes>"
      ]
     },
     "metadata": {},
     "output_type": "display_data"
    }
   ],
   "source": [
    "# データ生成\n",
    "centers = [(-1, -0.125), (0.5, 0.5)]\n",
    "X, Y = make_blobs(n_samples=50, n_features=2,\n",
    "                                 centers=centers, cluster_std=0.3)\n",
    "X_train, X_test, Y_train, Y_test = train_test_split(X, Y, test_size=0.3)\n",
    "\n",
    "# グラフの描画\n",
    "train1 = []\n",
    "train0 = []\n",
    "\n",
    "for i in range(len(X)):\n",
    "    if Y[i] == 1:\n",
    "        train1.append(X[i])\n",
    "    else : \n",
    "        train0.append(X[i])\n",
    "\n",
    "train1 = list(zip(*train1))\n",
    "train0 = list(zip(*train0))\n",
    "\n",
    "plt.scatter(train1[0],  train1[1])\n",
    "plt.scatter(train0[0], train0[1])\n",
    "plt.show()\n",
    "\n"
   ]
  },
  {
   "cell_type": "code",
   "execution_count": 42,
   "metadata": {},
   "outputs": [
    {
     "data": {
      "text/plain": [
       "1.0"
      ]
     },
     "execution_count": 42,
     "metadata": {},
     "output_type": "execute_result"
    }
   ],
   "source": [
    "model = LinearSVC()\n",
    "model.fit(X_train, Y_train) # 学習\n",
    "y_pred = model.predict(X_test)\n",
    "accuracy_score(y_pred, Y_test) #評価\n",
    "# print(model.get_params)"
   ]
  },
  {
   "cell_type": "code",
   "execution_count": null,
   "metadata": {},
   "outputs": [],
   "source": []
  }
 ],
 "metadata": {
  "kernelspec": {
   "display_name": "Python 3",
   "language": "python",
   "name": "python3"
  },
  "language_info": {
   "codemirror_mode": {
    "name": "ipython",
    "version": 3
   },
   "file_extension": ".py",
   "mimetype": "text/x-python",
   "name": "python",
   "nbconvert_exporter": "python",
   "pygments_lexer": "ipython3",
   "version": "3.6.10"
  }
 },
 "nbformat": 4,
 "nbformat_minor": 2
}
