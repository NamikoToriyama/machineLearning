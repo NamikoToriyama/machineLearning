{
 "cells": [
  {
   "cell_type": "code",
   "execution_count": 1,
   "metadata": {},
   "outputs": [],
   "source": [
    "from sklearn.neighbors import  KNeighborsClassifier\n",
    "from sklearn.datasets import make_moons\n",
    "from sklearn.model_selection import train_test_split\n",
    "from sklearn.metrics import accuracy_score"
   ]
  },
  {
   "cell_type": "code",
   "execution_count": 2,
   "metadata": {},
   "outputs": [
    {
     "data": {
      "text/plain": [
       "0.9333333333333333"
      ]
     },
     "execution_count": 2,
     "metadata": {},
     "output_type": "execute_result"
    }
   ],
   "source": [
    "# データ読み込み\n",
    "X, y = make_moons(noise=0.3)\n",
    "X_train, X_test, y_train, y_test = train_test_split(X, y, test_size=0.3)\n",
    "\n",
    "model = KNeighborsClassifier()\n",
    "model.fit(X_train, y_train) # 学習\n",
    "y_pred = model.predict(X_test)\n",
    "accuracy_score(y_pred, y_test) #評価"
   ]
  },
  {
   "cell_type": "code",
   "execution_count": 4,
   "metadata": {},
   "outputs": [
    {
     "data": {
      "image/png": "[encoded data removed]",
      "text/plain": [
       "<Figure size 432x288 with 1 Axes>"
      ]
     },
     "metadata": {},
     "output_type": "display_data"
    }
   ],
   "source": [
    "import matplotlib.pyplot as plt\n",
    "import numpy as np\n",
    "\n",
    "# x = np.arange(-1.5, 2.5, 0.1)\n",
    "# y = np.arange(-1.2, 2.0, 0.1)\n",
    "# XX, YY = np.meshgrid(y, x)\n",
    "\n",
    "x1 = []\n",
    "x0 = []\n",
    "for i in range(len(X_train)):\n",
    "    if y_train[i]:\n",
    "        x1.append(X_train[i])\n",
    "    else:\n",
    "        x0.append(X_train[i])\n",
    "\n",
    "train1 = list(zip(*x1))\n",
    "train0 = list(zip(*x0))\n",
    "\n",
    "plt.scatter(train1[0],  train1[1], c='blue')\n",
    "plt.scatter(train0[0], train0[1], c='orange')\n",
    "# カラーつけるのは面倒だったので今後やる\n",
    "# plt.contourf(xx,  yy, z1, alpha=0.5, cmap='Blues' )\n",
    "# plt.contourf(train0[1], train0[1],  z0, alpha=0.5, cmap='Oranges_r')\n",
    "plt.show()"
   ]
  }
 ],
 "metadata": {
  "kernelspec": {
   "display_name": "Python 3",
   "language": "python",
   "name": "python3"
  },
  "language_info": {
   "codemirror_mode": {
    "name": "ipython",
    "version": 3
   },
   "file_extension": ".py",
   "mimetype": "text/x-python",
   "name": "python",
   "nbconvert_exporter": "python",
   "pygments_lexer": "ipython3",
   "version": "3.6.10"
  }
 },
 "nbformat": 4,
 "nbformat_minor": 2
}
