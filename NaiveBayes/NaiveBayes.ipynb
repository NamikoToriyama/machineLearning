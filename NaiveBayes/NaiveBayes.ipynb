{
 "cells": [
  {
   "cell_type": "code",
   "execution_count": 1,
   "metadata": {},
   "outputs": [],
   "source": [
    "from sklearn.naive_bayes import MultinomialNB"
   ]
  },
  {
   "cell_type": "code",
   "execution_count": 2,
   "metadata": {},
   "outputs": [],
   "source": [
    "# データ生成\n",
    "#　文章ごとに含まれている言葉のカテゴリーの配列\n",
    "X_train = [[1, 1, 0, 0, 0, 0, 0, 0, 0, 0, 0 ],\n",
    "                  [0, 1, 1, 1, 0, 0, 0, 0, 0, 0, 0],\n",
    "                  [1, 0, 0, 0, 0, 1, 1, 0, 0, 0, 0],\n",
    "                  [0, 0, 0, 0, 0, 0, 1, 1, 0, 0, 0],\n",
    "                  [0, 0, 0, 0, 0, 0, 0, 1, 1, 1, 0],\n",
    "                  [0, 0, 0, 0, 0, 1, 0, 1, 1, 0, 1]]\n",
    "# 1なら映画、0なら宇宙と分類していく\n",
    "y_train = [1, 1, 1, 0, 0, 0]"
   ]
  },
  {
   "cell_type": "code",
   "execution_count": 3,
   "metadata": {},
   "outputs": [
    {
     "name": "stdout",
     "output_type": "stream",
     "text": [
      "[1]\n",
      "[0]\n"
     ]
    }
   ],
   "source": [
    "model = MultinomialNB()\n",
    "model.fit(X_train, y_train)\n",
    "#  予測\n",
    "print(model.predict([[0, 1, 0, 1, 0, 1, 0, 0, 0, 0, 0]]))\n",
    "print(model.predict([[0, 0, 0, 1, 0, 0, 1, 0, 1, 1, 0]]))"
   ]
  }
 ],
 "metadata": {
  "kernelspec": {
   "display_name": "Python 3",
   "language": "python",
   "name": "python3"
  },
  "language_info": {
   "codemirror_mode": {
    "name": "ipython",
    "version": 3
   },
   "file_extension": ".py",
   "mimetype": "text/x-python",
   "name": "python",
   "nbconvert_exporter": "python",
   "pygments_lexer": "ipython3",
   "version": "3.6.10"
  }
 },
 "nbformat": 4,
 "nbformat_minor": 2
}
