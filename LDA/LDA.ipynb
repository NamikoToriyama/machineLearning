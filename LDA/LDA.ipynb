{
 "cells": [
  {
   "cell_type": "code",
   "execution_count": 1,
   "metadata": {},
   "outputs": [],
   "source": [
    "from sklearn.datasets import fetch_20newsgroups\n",
    "from sklearn.feature_extraction.text import CountVectorizer\n",
    "from sklearn.decomposition import LatentDirichletAllocation"
   ]
  },
  {
   "cell_type": "code",
   "execution_count": 4,
   "metadata": {},
   "outputs": [
    {
     "name": "stdout",
     "output_type": "stream",
     "text": [
      "[[5.00000045e-02 3.13531914e+02 5.00000047e-02 ... 5.00000125e-02\n",
      "  4.51935869e+01 1.45430828e+02]\n",
      " [5.00075837e-02 5.00000284e-02 5.11311063e-02 ... 5.00009007e-02\n",
      "  5.00000048e-02 1.10218824e+01]\n",
      " [7.78708747e+01 2.93284857e+02 6.30528738e+01 ... 5.00000074e-02\n",
      "  3.21578783e+01 5.00000966e-02]\n",
      " ...\n",
      " [5.00000317e-02 5.01370131e-02 5.00000145e-02 ... 2.27618539e+02\n",
      "  5.00000133e-02 4.49811231e+01]\n",
      " [5.00001130e-02 5.00006422e-02 5.00011146e-02 ... 5.23932071e+01\n",
      "  5.00000071e-02 5.00000688e-02]\n",
      " [5.00000240e-02 1.22511351e+02 2.40225476e+02 ... 5.00005840e-02\n",
      "  5.00000045e-02 5.00000125e-02]]\n",
      "[[0.14319079 0.002      0.002      ... 0.002      0.002      0.002     ]\n",
      " [0.00227273 0.00227273 0.00227273 ... 0.00227273 0.00227273 0.00227273]\n",
      " [0.00057471 0.00057471 0.00057471 ... 0.00057471 0.00057471 0.00057471]\n",
      " ...\n",
      " [0.00454545 0.00454545 0.00454545 ... 0.00454545 0.00454545 0.00454545]\n",
      " [0.00128205 0.00128205 0.15989088 ... 0.21814513 0.07133487 0.00128205]\n",
      " [0.00384615 0.00384615 0.00384615 ... 0.00384615 0.00384615 0.224686  ]]\n"
     ]
    }
   ],
   "source": [
    "#  removeで本文以外の情報を取り除く\n",
    "data = fetch_20newsgroups(remove=('headers', 'footers', 'qutes'))\n",
    "\n",
    "max_features = 1000\n",
    "# 文書データをベクトルに変換\n",
    "tf_vectorizer = CountVectorizer(max_features=max_features,\n",
    "                                                            stop_words='english')\n",
    "tf = tf_vectorizer.fit_transform(data.data)\n",
    "\n",
    "n_topics = 20\n",
    "model = LatentDirichletAllocation(n_components=n_topics)\n",
    "model.fit(tf)\n",
    "\n",
    "print(model.components_)\n",
    "print(model.transform(tf))"
   ]
  },
  {
   "cell_type": "code",
   "execution_count": null,
   "metadata": {},
   "outputs": [],
   "source": []
  }
 ],
 "metadata": {
  "kernelspec": {
   "display_name": "Python 3",
   "language": "python",
   "name": "python3"
  },
  "language_info": {
   "codemirror_mode": {
    "name": "ipython",
    "version": 3
   },
   "file_extension": ".py",
   "mimetype": "text/x-python",
   "name": "python",
   "nbconvert_exporter": "python",
   "pygments_lexer": "ipython3",
   "version": "3.6.10"
  }
 },
 "nbformat": 4,
 "nbformat_minor": 2
}
