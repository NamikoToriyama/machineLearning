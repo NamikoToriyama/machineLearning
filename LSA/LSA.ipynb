{
 "cells": [
  {
   "cell_type": "code",
   "execution_count": 1,
   "metadata": {},
   "outputs": [],
   "source": [
    "from sklearn.decomposition import TruncatedSVD"
   ]
  },
  {
   "cell_type": "code",
   "execution_count": 2,
   "metadata": {},
   "outputs": [
    {
     "data": {
      "text/plain": [
       "TruncatedSVD(algorithm='randomized', n_components=2, n_iter=5,\n",
       "       random_state=None, tol=0.0)"
      ]
     },
     "execution_count": 2,
     "metadata": {},
     "output_type": "execute_result"
    }
   ],
   "source": [
    "data = [[1, 0, 0, 0],\n",
    "               [1, 0, 0, 0],\n",
    "               [1, 1, 0, 0],\n",
    "               [0, 1, 0, 0],\n",
    "               [0, 0, 1, 1],\n",
    "               [0, 0, 1, 0],\n",
    "               [0, 0, 1, 1],\n",
    "               [0, 0, 0, 1]]\n",
    "\n",
    "n_components = 2\n",
    "model = TruncatedSVD(n_components=n_components)\n",
    "model.fit(data)"
   ]
  },
  {
   "cell_type": "code",
   "execution_count": 3,
   "metadata": {},
   "outputs": [
    {
     "name": "stdout",
     "output_type": "stream",
     "text": [
      "[[ 0.00000000e+00  8.50650808e-01]\n",
      " [ 0.00000000e+00  8.50650808e-01]\n",
      " [ 1.08779196e-15  1.37638192e+00]\n",
      " [ 1.08779196e-15  5.25731112e-01]\n",
      " [ 1.41421356e+00 -8.08769049e-16]\n",
      " [ 7.07106781e-01 -4.04384525e-16]\n",
      " [ 1.41421356e+00 -8.08769049e-16]\n",
      " [ 7.07106781e-01 -4.04384525e-16]]\n"
     ]
    }
   ],
   "source": [
    "print(model.transform(data)) # 変換したデータ"
   ]
  },
  {
   "cell_type": "code",
   "execution_count": 4,
   "metadata": {},
   "outputs": [
    {
     "name": "stdout",
     "output_type": "stream",
     "text": [
      "[0.38596491 0.27999429]\n"
     ]
    }
   ],
   "source": [
    "print(model.explained_variance_ratio_) # 寄与率"
   ]
  },
  {
   "cell_type": "code",
   "execution_count": 5,
   "metadata": {},
   "outputs": [
    {
     "name": "stdout",
     "output_type": "stream",
     "text": [
      "0.6659592065833291\n"
     ]
    }
   ],
   "source": [
    "print(sum(model.explained_variance_ratio_)) # 累積寄与率\n",
    "# 2このデータでこの確率だけ元のデータの説明をできているということになる"
   ]
  }
 ],
 "metadata": {
  "kernelspec": {
   "display_name": "Python 3",
   "language": "python",
   "name": "python3"
  },
  "language_info": {
   "codemirror_mode": {
    "name": "ipython",
    "version": 3
   },
   "file_extension": ".py",
   "mimetype": "text/x-python",
   "name": "python",
   "nbconvert_exporter": "python",
   "pygments_lexer": "ipython3",
   "version": "3.6.10"
  }
 },
 "nbformat": 4,
 "nbformat_minor": 2
}
